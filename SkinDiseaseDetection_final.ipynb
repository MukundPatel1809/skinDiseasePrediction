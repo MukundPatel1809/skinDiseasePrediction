{
 "cells": [
  {
   "cell_type": "code",
   "execution_count": 17,
   "metadata": {},
   "outputs": [],
   "source": [
    "#not needed- to be removed\n",
    "def setUpImport():\n",
    "    import numpy as np\n",
    "    import pandas as pd\n",
    "    import matplotlib.pyplot as plt\n",
    "    import os\n",
    "    from glob import glob\n",
    "    from PIL import Image\n",
    "    from tqdm import tqdm\n",
    "    from keras.preprocessing import image\n",
    "    %matplotlib inline\n",
    "    from keras.preprocessing.image import ImageDataGenerator, array_to_img, img_to_array, load_img\n",
    "    from keras.utils.np_utils import to_categorical\n",
    "    from sklearn.model_selection import train_test_split\n",
    "    from keras.models import Sequential\n",
    "    from keras.layers import Dense,Flatten\n",
    "    import tensorflow as tf\n",
    "    from tensorflow import keras"
   ]
  },
  {
   "cell_type": "code",
   "execution_count": 18,
   "metadata": {},
   "outputs": [],
   "source": [
    "#create function to add image path location in metadata\n",
    "def end_to_end_data_prep():\n",
    "    base = '/cxldata/skin_disease_1/skinDisease_data'\n",
    "    metadata = pd.read_csv(os.path.join(base,'HAM10000_metadata.csv'))\n",
    "    #metadata.info()\n",
    "    #if we combine data into one directory then no need to mention *\n",
    "    image_path = {os.path.splitext(os.path.basename(x))[0]: x\n",
    "                  for x in glob(os.path.join('/cxldata/skin_disease_1/HAM10000_images_draftv1/','*','*.jpg'))}\n",
    "    metadata['path'] = metadata['image_id'].map(image_path.get)\n",
    "    #upload data into dataset with resize 254,254\n",
    "    #metadata['image'] = metadata['path'].map(lambda x: np.asarray(Image.open(x).resize((224,224))))\n",
    "    \n",
    "    return metadata"
   ]
  },
  {
   "cell_type": "code",
   "execution_count": 19,
   "metadata": {},
   "outputs": [],
   "source": [
    "# this is for to plot images w.r.t. each category\n",
    "def end_to_end_data_prep_plot(metadata):\n",
    "    n_samples = 5  # number of samples for plotting\n",
    "    # Plotting\n",
    "    fig, m_axs = plt.subplots(7, n_samples, figsize = (4*n_samples, 3*7))\n",
    "    for n_axs, (type_name, type_rows) in zip(m_axs, metadata.sort_values(['dx']).groupby('dx')):\n",
    "        n_axs[0].set_title(type_name)\n",
    "        for c_ax, (_, c_row) in zip(n_axs, type_rows.sample(n_samples, random_state=1234).iterrows()):\n",
    "            c_ax.imshow(c_row['image'])\n",
    "            c_ax.axis('off')"
   ]
  },
  {
   "cell_type": "code",
   "execution_count": 20,
   "metadata": {},
   "outputs": [],
   "source": [
    "#preparation for the augmentation\n",
    "def data_prep_augmentation(path):\n",
    "    img = load_img(path, target_size= (224,224))\n",
    "    x = img_to_array(img)\n",
    "    x = x.reshape((1,) + x.shape)\n",
    "    return x\n"
   ]
  },
  {
   "cell_type": "code",
   "execution_count": 21,
   "metadata": {},
   "outputs": [],
   "source": [
    "#augmentation image generator\n",
    "def data_prep_augmentation_generator(input_image_array,output_dir,output_prefix):\n",
    "    datagen = ImageDataGenerator(\n",
    "        rotation_range=40,\n",
    "        width_shift_range=0.2,\n",
    "        height_shift_range=0.2,\n",
    "        zoom_range=0.2,\n",
    "        horizontal_flip=True,\n",
    "        fill_mode='nearest')\n",
    "    i = 0\n",
    "    for batch in datagen.flow(input_image_array, batch_size=1,save_to_dir=output_dir, save_prefix=output_prefix, save_format='jpg'):\n",
    "        i += 1\n",
    "        if i > 10:\n",
    "            break"
   ]
  },
  {
   "cell_type": "code",
   "execution_count": 22,
   "metadata": {},
   "outputs": [],
   "source": [
    "#data split\n",
    "def dataSplit():\n",
    "    \n",
    "    # train test split for data preparation\n",
    "    train,test = train_test_split(metadata,stratify=metadata['dx'],test_size=0.2)\n",
    "    \n",
    "    # save train data into csv to overcome processing again n again( 34120 records)\n",
    "    train.to_csv('/cxldata/skin_disease_1/skinDisease_data/skinDisease_train_main.csv')\n",
    "    \n",
    "    # save test data into csv to overcome processing again n again ( 8530 records)\n",
    "    test.to_csv('/cxldata/skin_disease_1/skinDisease_data/skinDisease_test_main.csv')\n",
    "    return train,test"
   ]
  },
  {
   "cell_type": "code",
   "execution_count": 23,
   "metadata": {},
   "outputs": [],
   "source": [
    "#get all train data\n",
    "def getTrain_all():\n",
    "    train_df = pd.read_csv('/cxldata/skin_disease_1/skinDisease_data/skinDisease_train_main.csv')\n",
    "    return train_df"
   ]
  },
  {
   "cell_type": "code",
   "execution_count": 24,
   "metadata": {},
   "outputs": [],
   "source": [
    "#get all test data \n",
    "def getTest_all():\n",
    "    test_df = pd.read_csv('/cxldata/skin_disease_1/skinDisease_data/skinDisease_test_main.csv')\n",
    "    return test_df"
   ]
  },
  {
   "cell_type": "code",
   "execution_count": 25,
   "metadata": {},
   "outputs": [],
   "source": [
    "# created another df because we are not able to run fit model on 34120 records so created another df with 12000 recods\n",
    "def getsplittrain(train_df):\n",
    "    train_df1 = train_df[0:12000]\n",
    "    return train_df1"
   ]
  },
  {
   "cell_type": "code",
   "execution_count": 26,
   "metadata": {},
   "outputs": [],
   "source": [
    "#converting images into numpy array and adding 1 extra dimension(batch) for CNN\n",
    "def convertTo4DArray(train_df1):\n",
    "    train_image = []\n",
    "    for i in tqdm(range(train_df1.shape[0])):\n",
    "        img = image.load_img(train_df1['path'][i],target_size=[64,64,3])\n",
    "        img = image.img_to_array(img)\n",
    "        img = img/255\n",
    "        train_image.append(img)\n",
    "    X = np.array(train_image)\n",
    "    return X"
   ]
  },
  {
   "cell_type": "code",
   "execution_count": 27,
   "metadata": {},
   "outputs": [],
   "source": [
    "#applying encoder for y\n",
    "def applyEncoderToLabel(train_df1):\n",
    "    y = train_df1['dx'].values\n",
    "    onehotencoder = OneHotEncoder(categories='auto',sparse=False)\n",
    "    y = onehotencoder.fit_transform(y.reshape(-1,1))\n",
    "    return y"
   ]
  },
  {
   "cell_type": "code",
   "execution_count": 28,
   "metadata": {},
   "outputs": [],
   "source": [
    "#Model building\n",
    "def buildModelAndTraining(X,y):\n",
    "    base_model = keras.applications.vgg16.VGG16(weights=\"imagenet\",\n",
    "                                                      include_top=False,input_shape = (64,64,3))\n",
    "    model_t1 = Sequential()\n",
    "    model_t1.add(base_model)\n",
    "    model_t1.add(Flatten())\n",
    "    model_t1.add(Dense(64,activation=\"relu\"))\n",
    "    model_t1.add(Dense(7,activation=\"softmax\"))\n",
    "    #avg = keras.layers.GlobalAveragePooling2D()(base_model.output)\n",
    "    #output = keras.layers.Dense(7, activation=\"softmax\")(avg)\n",
    "    #model = keras.models.Model(inputs=base_model.input, outputs=output)\n",
    "    for layer in base_model.layers:\n",
    "        layer.trainable = False\n",
    "    \n",
    "    #optimizer = keras.optimizers.SGD(lr=0.2)\n",
    "    X_train,X_valid,y_train,y_valid = train_test_split(X,y,stratify=y,test_size=0.2)\n",
    "    model_t1.compile(loss=\"categorical_crossentropy\", optimizer=\"nadam\",metrics=[\"accuracy\"])\n",
    "    history = model_t1.fit(X_train,y_train,epochs=3,validation_data=(X_valid,y_valid)) #changed from 5\n",
    "    \n",
    "    model_t1.save('/cxldata/skin_disease_1/skinDisease_data/4_nadam.h5')"
   ]
  },
  {
   "cell_type": "code",
   "execution_count": 29,
   "metadata": {},
   "outputs": [],
   "source": [
    "#prepare test dataset\n",
    "def prepare_test_dataset(X,y):\n",
    "    train_image = []\n",
    "    for i in tqdm(range(test_df.shape[0])):\n",
    "        img = image.load_img(test_df['path'][i],target_size=[64,64,3])\n",
    "        img = image.img_to_array(img)\n",
    "        img = img/255\n",
    "        train_image.append(img)\n",
    "\n",
    "    X_test = np.array(train_image)\n",
    "    y_test = test_df['dx'].values\n",
    "    onehotencoder = OneHotEncoder(categories='auto',sparse=False)\n",
    "    y_test = onehotencoder.fit_transform(y_test.reshape(-1,1))\n",
    "    return X_test,y_test"
   ]
  },
  {
   "cell_type": "code",
   "execution_count": 30,
   "metadata": {},
   "outputs": [],
   "source": [
    "#evaluate the model\n",
    "def evaluate_model(X_test,y_test):\n",
    "    model = keras.models.load_model('/cxldata/skin_disease_1/skinDisease_data/4_nadam.h5')\n",
    "    print(\"Evaluate on test data\")\n",
    "    results = model.evaluate(X_test, y_test, batch_size=128)\n",
    "    print(\"test loss, test acc:\", results)"
   ]
  },
  {
   "cell_type": "code",
   "execution_count": 31,
   "metadata": {},
   "outputs": [],
   "source": [
    "#predict the test data- testing\n",
    "def predict_test_data(X_test):\n",
    "    model = keras.models.load_model('/cxldata/skin_disease_1/skinDisease_data/4_nadam.h5')\n",
    "    y_pred=model.predict(X_test, batch_size=128)\n",
    "    return y_pred"
   ]
  },
  {
   "cell_type": "code",
   "execution_count": 32,
   "metadata": {},
   "outputs": [],
   "source": [
    "#predict\n",
    "def predict(img_path1):\n",
    "    model = keras.models.load_model('/cxldata/skin_disease_1/skinDisease_data/4_nadam.h5')\n",
    "    # prediction for single image\n",
    "    classes = ['akiec', 'bcc', 'bkl', 'df', 'mel', 'nv', 'vasc']\n",
    "    #img_path1 = '/cxldata/skin_disease_1/HAM10000_images_draftv1/akiec2/akiec_0_9864.jpg'\n",
    "    img1 = image.load_img(img_path1,color_mode='rgb', target_size=(64, 64))\n",
    "    display(img1)\n",
    "    x1 = image.img_to_array(img1)\n",
    "    x1.shape\n",
    "    # Adding the fouth dimension, for number of images\n",
    "    x1 = np.expand_dims(x1, axis=0)\n",
    "\n",
    "    x1 = preprocess_input(x1)\n",
    "    features1 = model.predict(x1)\n",
    "    features1\n",
    "    #p = decode_predictions(features)\n",
    "    MaxPosition=np.argmax(features1)  \n",
    "    prediction_label=classes[MaxPosition]\n",
    "    print('*************prediction_label**********',prediction_label) \n",
    "    return prediction_label"
   ]
  },
  {
   "cell_type": "code",
   "execution_count": 33,
   "metadata": {},
   "outputs": [],
   "source": [
    "#confusion matrix\n",
    "def confusionMatrixAndAccuracySummary(y_pred):\n",
    "    rounded_labels=np.argmax(y_test, axis=1)\n",
    "    y_pred_1=np.argmax(y_pred, axis=1)\n",
    "\n",
    "    print('rounded_labels===>' '\\n',classification_report(rounded_labels, y_pred_1))\n",
    "    cm = confusion_matrix(rounded_labels, y_pred_1)\n",
    "    print('confusion matix===>' '\\n',cm)\n",
    "    \n",
    "    print('-----------------classification_report----------------' '\\n',classification_report(rounded_labels, y_pred_1))"
   ]
  },
  {
   "cell_type": "code",
   "execution_count": 34,
   "metadata": {},
   "outputs": [
    {
     "name": "stdout",
     "output_type": "stream",
     "text": [
      "--------------------end_to_end_data_preparation completed --------------------\n"
     ]
    },
    {
     "name": "stderr",
     "output_type": "stream",
     "text": [
      "  0%|          | 0/12000 [00:00<?, ?it/s]"
     ]
    },
    {
     "name": "stdout",
     "output_type": "stream",
     "text": [
      "--------------------dataSplit completed --------------------\n"
     ]
    },
    {
     "name": "stderr",
     "output_type": "stream",
     "text": [
      "100%|██████████| 12000/12000 [04:55<00:00, 40.60it/s]\n",
      "WARNING: Logging before flag parsing goes to stderr.\n",
      "W1120 09:43:15.711226 140636660291392 deprecation.py:506] From /usr/local/anaconda/lib/python3.6/site-packages/tensorflow/python/ops/init_ops.py:1251: calling VarianceScaling.__init__ (from tensorflow.python.ops.init_ops) with dtype is deprecated and will be removed in a future version.\n",
      "Instructions for updating:\n",
      "Call initializer instance with the dtype argument instead of passing it to the constructor\n"
     ]
    },
    {
     "name": "stdout",
     "output_type": "stream",
     "text": [
      "--------------------convertTo4DArray completed --------------------\n",
      "--------------------label encoding completed --------------------\n",
      "--------------------model construcrtion and training started --------------------\n",
      "Train on 9600 samples, validate on 2400 samples\n",
      "Epoch 1/3\n",
      "9600/9600 [==============================] - 198s 21ms/sample - loss: 0.8586 - acc: 0.7349 - val_loss: 0.6018 - val_acc: 0.8188\n",
      "Epoch 2/3\n",
      "9600/9600 [==============================] - 196s 20ms/sample - loss: 0.4514 - acc: 0.8761 - val_loss: 0.4115 - val_acc: 0.8850\n",
      "Epoch 3/3\n",
      "9600/9600 [==============================] - 197s 21ms/sample - loss: 0.3557 - acc: 0.9024 - val_loss: 0.3667 - val_acc: 0.8946\n"
     ]
    },
    {
     "name": "stderr",
     "output_type": "stream",
     "text": [
      "  0%|          | 5/8530 [00:00<03:26, 41.30it/s]"
     ]
    },
    {
     "name": "stdout",
     "output_type": "stream",
     "text": [
      "--------------------model construcrtion and training finished --------------------\n"
     ]
    },
    {
     "name": "stderr",
     "output_type": "stream",
     "text": [
      "100%|██████████| 8530/8530 [03:11<00:00, 44.62it/s]\n",
      "W1120 09:56:22.740607 140636660291392 deprecation.py:506] From /usr/local/anaconda/lib/python3.6/site-packages/tensorflow/python/ops/init_ops.py:97: calling GlorotUniform.__init__ (from tensorflow.python.ops.init_ops) with dtype is deprecated and will be removed in a future version.\n",
      "Instructions for updating:\n",
      "Call initializer instance with the dtype argument instead of passing it to the constructor\n",
      "W1120 09:56:22.741871 140636660291392 deprecation.py:506] From /usr/local/anaconda/lib/python3.6/site-packages/tensorflow/python/ops/init_ops.py:97: calling Zeros.__init__ (from tensorflow.python.ops.init_ops) with dtype is deprecated and will be removed in a future version.\n",
      "Instructions for updating:\n",
      "Call initializer instance with the dtype argument instead of passing it to the constructor\n"
     ]
    },
    {
     "name": "stdout",
     "output_type": "stream",
     "text": [
      "--------------------evaluation started --------------------\n",
      "Evaluate on test data\n",
      "8530/8530 [==============================] - 134s 16ms/sample - loss: 0.3641 - acc: 0.8951\n",
      "test loss, test acc: [0.36405526781836817, 0.8950762]\n",
      "--------------------evaluation completed --------------------\n",
      "-------------------- confusionMatrixAndAccuracySummary started --------------------\n",
      "rounded_labels===>\n",
      "               precision    recall  f1-score   support\n",
      "\n",
      "           0       0.87      0.94      0.90      1121\n",
      "           1       0.96      0.85      0.90      1031\n",
      "           2       0.90      0.84      0.87      1253\n",
      "           3       0.93      0.93      0.93      1256\n",
      "           4       0.93      0.85      0.89      1302\n",
      "           5       0.80      0.87      0.83      1341\n",
      "           6       0.92      0.98      0.95      1226\n",
      "\n",
      "    accuracy                           0.90      8530\n",
      "   macro avg       0.90      0.90      0.90      8530\n",
      "weighted avg       0.90      0.90      0.90      8530\n",
      "\n",
      "confusion matix===>\n",
      " [[1058    4   18    9    7   14   11]\n",
      " [  31  874   16   26    6   37   41]\n",
      " [  35    6 1051   20   22  106   13]\n",
      " [  39   12    7 1167    2   18   11]\n",
      " [  32    7   20   12 1111  106   14]\n",
      " [  18    4   55   23   51 1170   20]\n",
      " [   8    1    0    0    1   12 1204]]\n",
      "-----------------classification_report----------------\n",
      "               precision    recall  f1-score   support\n",
      "\n",
      "           0       0.87      0.94      0.90      1121\n",
      "           1       0.96      0.85      0.90      1031\n",
      "           2       0.90      0.84      0.87      1253\n",
      "           3       0.93      0.93      0.93      1256\n",
      "           4       0.93      0.85      0.89      1302\n",
      "           5       0.80      0.87      0.83      1341\n",
      "           6       0.92      0.98      0.95      1226\n",
      "\n",
      "    accuracy                           0.90      8530\n",
      "   macro avg       0.90      0.90      0.90      8530\n",
      "weighted avg       0.90      0.90      0.90      8530\n",
      "\n",
      "-------------------- confusionMatrixAndAccuracySummary completed --------------------\n"
     ]
    }
   ],
   "source": [
    "import numpy as np\n",
    "import pandas as pd\n",
    "import matplotlib.pyplot as plt\n",
    "import os\n",
    "from glob import glob\n",
    "from PIL import Image\n",
    "from tqdm import tqdm\n",
    "from keras.preprocessing import image\n",
    "%matplotlib inline\n",
    "from keras.preprocessing.image import ImageDataGenerator, array_to_img, img_to_array, load_img\n",
    "from keras.utils.np_utils import to_categorical\n",
    "from sklearn.model_selection import train_test_split\n",
    "from sklearn.preprocessing import OneHotEncoder\n",
    "from tensorflow.keras.models import Sequential\n",
    "from tensorflow.keras.layers import Dense,Flatten\n",
    "import tensorflow as tf\n",
    "from tensorflow import keras\n",
    "from sklearn.metrics import confusion_matrix\n",
    "from sklearn.metrics import classification_report\n",
    "from tensorflow.keras.applications.vgg16 import preprocess_input,decode_predictions\n",
    "\n",
    "\n",
    "#create function to add image path location in metadata\n",
    "metadata=end_to_end_data_prep()\n",
    "print(\"--------------------end_to_end_data_preparation completed --------------------\")\n",
    "\n",
    "# his is for to plot images w.r.t. each category\n",
    "#########end_to_end_data_prep_plot(metadata)\n",
    "\n",
    "#data split\n",
    "train,test = dataSplit()\n",
    "print(\"--------------------dataSplit completed --------------------\")\n",
    "\n",
    "\n",
    "#get all train data\n",
    "train_df = getTrain_all()\n",
    "\n",
    "#get all test data \n",
    "test_df = getTest_all()\n",
    "\n",
    "#get top 12000 records\n",
    "train_df1 = getsplittrain(train_df)\n",
    "\n",
    "#converting images into numpy array and adding 1 extra dimension(batch) for CNN\n",
    "X = convertTo4DArray(train_df1)\n",
    "print(\"--------------------convertTo4DArray completed --------------------\")\n",
    "\n",
    "#applying encoder for y\n",
    "y = applyEncoderToLabel(train_df1)\n",
    "print(\"--------------------label encoding completed --------------------\")\n",
    "\n",
    "print(\"--------------------model construcrtion and training started --------------------\")\n",
    "#build the model \n",
    "buildModelAndTraining(X,y)\n",
    "print(\"--------------------model construcrtion and training finished --------------------\")\n",
    "\n",
    "#prepare test dataset\n",
    "X_test,y_test = prepare_test_dataset(X,y)\n",
    "\n",
    "print(\"--------------------evaluation started --------------------\")\n",
    "#evaluate the model\n",
    "evaluate_model(X_test,y_test)\n",
    "print(\"--------------------evaluation completed --------------------\")\n",
    "\n",
    "#predict the test data- testing\n",
    "y_pred = predict_test_data(X_test)\n",
    "\n",
    "print(\"-------------------- confusionMatrixAndAccuracySummary started --------------------\")\n",
    "confusionMatrixAndAccuracySummary(y_pred)\n",
    "print(\"-------------------- confusionMatrixAndAccuracySummary completed --------------------\")\n"
   ]
  },
  {
   "cell_type": "code",
   "execution_count": 37,
   "metadata": {},
   "outputs": [
    {
     "name": "stdout",
     "output_type": "stream",
     "text": [
      "--------------------prediction started --------------------\n"
     ]
    },
    {
     "data": {
      "image/png": "[encoded data removed]",
      "text/plain": [
       "<PIL.Image.Image image mode=RGB size=64x64 at 0x7FE78E378DA0>"
      ]
     },
     "metadata": {},
     "output_type": "display_data"
    },
    {
     "name": "stdout",
     "output_type": "stream",
     "text": [
      "*************prediction_label********** akiec\n"
     ]
    },
    {
     "data": {
      "text/plain": [
       "'akiec'"
      ]
     },
     "execution_count": 37,
     "metadata": {},
     "output_type": "execute_result"
    }
   ],
   "source": [
    "#predict\n",
    "print(\"--------------------prediction started --------------------\")\n",
    "img_path1 = '/cxldata/skin_disease_1/HAM10000_images_draftv1/akiec2/akiec_0_9864.jpg'\n",
    "predict(img_path1)"
   ]
  },
  {
   "cell_type": "code",
   "execution_count": null,
   "metadata": {},
   "outputs": [],
   "source": []
  }
 ],
 "metadata": {
  "kernelspec": {
   "display_name": "Python 3",
   "language": "python",
   "name": "python3"
  },
  "language_info": {
   "codemirror_mode": {
    "name": "ipython",
    "version": 3
   },
   "file_extension": ".py",
   "mimetype": "text/x-python",
   "name": "python",
   "nbconvert_exporter": "python",
   "pygments_lexer": "ipython3",
   "version": "3.6.8"
  },
  "toc": {
   "base_numbering": 1,
   "nav_menu": {},
   "number_sections": true,
   "sideBar": true,
   "skip_h1_title": false,
   "title_cell": "Table of Contents",
   "title_sidebar": "Contents",
   "toc_cell": false,
   "toc_position": {},
   "toc_section_display": true,
   "toc_window_display": false
  }
 },
 "nbformat": 4,
 "nbformat_minor": 2
}
