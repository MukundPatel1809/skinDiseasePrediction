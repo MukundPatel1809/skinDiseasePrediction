{
 "cells": [
  {
   "cell_type": "code",
   "execution_count": 1,
   "metadata": {},
   "outputs": [],
   "source": [
    "import numpy as np\n",
    "import pandas as pd\n",
    "from tqdm import tqdm\n",
    "from keras.preprocessing import image\n",
    "import matplotlib.pyplot as plt\n",
    "from PIL import Image\n",
    "#from keras.utils import to_categorical\n",
    "from keras.utils.np_utils import to_categorical\n",
    "from sklearn.model_selection import train_test_split\n",
    "from keras.models import Sequential\n",
    "from keras.layers import Dense,Flatten\n",
    "import tensorflow as tf\n",
    "from tensorflow import keras"
   ]
  },
  {
   "cell_type": "code",
   "execution_count": 12,
   "metadata": {},
   "outputs": [],
   "source": [
    "def end_to_end_data_prep():\n",
    "    import numpy as np\n",
    "    import pandas as pd\n",
    "    import matplotlib.pyplot as plt\n",
    "    import os\n",
    "    from glob import glob\n",
    "    from PIL import Image\n",
    "    %matplotlib inline\n",
    "    base = '/cxldata/skin_disease_1/'\n",
    "    metadata = pd.read_csv(os.path.join(base,'HAM10000_metadata_orig.csv'))\n",
    "    #metadata.info()\n",
    "    #if we combine data into one directory then no need to mention *\n",
    "    image_path = {os.path.splitext(os.path.basename(x))[0]: x\n",
    "                  for x in glob(os.path.join('/cxldata/skin_disease_1/HAM10000_images_draftv1/orig/','*.jpg'))}\n",
    "    metadata['path'] = metadata['image_id'].map(image_path.get)\n",
    "    #upload data into dataset with resize 254,254\n",
    "    #metadata['image'] = metadata['path'].map(lambda x: np.asarray(Image.open(x).resize((224,224))))\n",
    "    \n",
    "    return metadata"
   ]
  },
  {
   "cell_type": "code",
   "execution_count": 13,
   "metadata": {},
   "outputs": [],
   "source": [
    "metadata_all = end_to_end_data_prep()\n"
   ]
  },
  {
   "cell_type": "code",
   "execution_count": null,
   "metadata": {},
   "outputs": [],
   "source": [
    "# first import all data into dataframe then run train_test_split function to split data\n",
    "\n",
    "# total samples are 42650\n",
    "# split with train_test_split (stratify = y,test 0.2 size)\n",
    "# train  - 34120\n",
    "#test - 8530"
   ]
  },
  {
   "cell_type": "code",
   "execution_count": null,
   "metadata": {},
   "outputs": [],
   "source": [
    "# save train data into csv to overcome processing again n again( 34120 records)\n",
    "train.to_csv('/cxldata/skin_disease_1/sudeep/sudeep_train.csv')"
   ]
  },
  {
   "cell_type": "code",
   "execution_count": null,
   "metadata": {},
   "outputs": [],
   "source": [
    "# save test data into csv to overcome processing again n again ( 8530 records)\n",
    "\n",
    "test.to_csv('/cxldata/skin_disease_1/sudeep/sudeep_test.csv')"
   ]
  },
  {
   "cell_type": "code",
   "execution_count": 3,
   "metadata": {},
   "outputs": [],
   "source": [
    "# import train data (34120 records)\n",
    "import pandas as pd\n",
    "train_df = pd.read_csv('/cxldata/skin_disease_1/sudeep/sudeep_train.csv')"
   ]
  },
  {
   "cell_type": "code",
   "execution_count": 4,
   "metadata": {},
   "outputs": [],
   "source": [
    "# import test data ( 8530 records)\n",
    "import pandas as pd \n",
    "test_df = pd.read_csv('/cxldata/skin_disease_1/sudeep/sudeep_test.csv')"
   ]
  },
  {
   "cell_type": "code",
   "execution_count": 5,
   "metadata": {},
   "outputs": [],
   "source": [
    "# created another df because we are not able to run fit model on 34120 records so created another df with 12000 recods\n",
    "train_df1 = train_df[0:12000]"
   ]
  },
  {
   "cell_type": "code",
   "execution_count": 6,
   "metadata": {},
   "outputs": [
    {
     "data": {
      "text/plain": [
       "(12000, 11)"
      ]
     },
     "execution_count": 6,
     "metadata": {},
     "output_type": "execute_result"
    }
   ],
   "source": [
    "train_df1.shape"
   ]
  },
  {
   "cell_type": "code",
   "execution_count": 7,
   "metadata": {},
   "outputs": [
    {
     "data": {
      "text/plain": [
       "mel      1830\n",
       "nv       1820\n",
       "bkl      1770\n",
       "df       1766\n",
       "vasc     1764\n",
       "akiec    1592\n",
       "bcc      1458\n",
       "Name: dx, dtype: int64"
      ]
     },
     "execution_count": 7,
     "metadata": {},
     "output_type": "execute_result"
    }
   ],
   "source": [
    "# data is stratified in new data frame\n",
    "train_df1['dx'].value_counts()"
   ]
  },
  {
   "cell_type": "code",
   "execution_count": 8,
   "metadata": {},
   "outputs": [
    {
     "data": {
      "text/plain": [
       "12000"
      ]
     },
     "execution_count": 8,
     "metadata": {},
     "output_type": "execute_result"
    }
   ],
   "source": [
    "len(train_df1)"
   ]
  },
  {
   "cell_type": "code",
   "execution_count": 10,
   "metadata": {},
   "outputs": [
    {
     "name": "stdout",
     "output_type": "stream",
     "text": [
      "<class 'pandas.core.frame.DataFrame'>\n",
      "RangeIndex: 8530 entries, 0 to 8529\n",
      "Data columns (total 11 columns):\n",
      " #   Column        Non-Null Count  Dtype  \n",
      "---  ------        --------------  -----  \n",
      " 0   Unnamed: 0    8530 non-null   int64  \n",
      " 1   Unnamed: 0.1  8530 non-null   int64  \n",
      " 2   lesion_id     1996 non-null   object \n",
      " 3   image_id      8530 non-null   object \n",
      " 4   dx            8530 non-null   object \n",
      " 5   dx_type       8530 non-null   object \n",
      " 6   age           1985 non-null   float64\n",
      " 7   sex           8530 non-null   object \n",
      " 8   localization  8530 non-null   object \n",
      " 9   dataset       8530 non-null   object \n",
      " 10  path          8530 non-null   object \n",
      "dtypes: float64(1), int64(2), object(8)\n",
      "memory usage: 733.2+ KB\n"
     ]
    }
   ],
   "source": [
    "test_df.info()"
   ]
  },
  {
   "cell_type": "code",
   "execution_count": 11,
   "metadata": {},
   "outputs": [
    {
     "data": {
      "text/plain": [
       "8530"
      ]
     },
     "execution_count": 11,
     "metadata": {},
     "output_type": "execute_result"
    }
   ],
   "source": [
    "len(test_df)"
   ]
  },
  {
   "cell_type": "code",
   "execution_count": 15,
   "metadata": {},
   "outputs": [
    {
     "data": {
      "text/plain": [
       "'/cxldata/skin_disease_1/HAM10000_images_draftv1/akiec1/akiec_0_6806.jpg'"
      ]
     },
     "execution_count": 15,
     "metadata": {},
     "output_type": "execute_result"
    }
   ],
   "source": [
    "train_df1['path'][0]"
   ]
  },
  {
   "cell_type": "code",
   "execution_count": 13,
   "metadata": {},
   "outputs": [
    {
     "data": {
      "text/plain": [
       "'/cxldata/skin_disease_1/HAM10000_images_draftv1/bkl2/bkl_0_7689.jpg'"
      ]
     },
     "execution_count": 13,
     "metadata": {},
     "output_type": "execute_result"
    }
   ],
   "source": [
    "test_df['path'][0]"
   ]
  },
  {
   "cell_type": "code",
   "execution_count": 16,
   "metadata": {},
   "outputs": [
    {
     "data": {
      "text/html": [
       "<div>\n",
       "<style scoped>\n",
       "    .dataframe tbody tr th:only-of-type {\n",
       "        vertical-align: middle;\n",
       "    }\n",
       "\n",
       "    .dataframe tbody tr th {\n",
       "        vertical-align: top;\n",
       "    }\n",
       "\n",
       "    .dataframe thead th {\n",
       "        text-align: right;\n",
       "    }\n",
       "</style>\n",
       "<table border=\"1\" class=\"dataframe\">\n",
       "  <thead>\n",
       "    <tr style=\"text-align: right;\">\n",
       "      <th></th>\n",
       "      <th>Unnamed: 0</th>\n",
       "      <th>Unnamed: 0.1</th>\n",
       "      <th>lesion_id</th>\n",
       "      <th>image_id</th>\n",
       "      <th>dx</th>\n",
       "      <th>dx_type</th>\n",
       "      <th>age</th>\n",
       "      <th>sex</th>\n",
       "      <th>localization</th>\n",
       "      <th>dataset</th>\n",
       "      <th>path</th>\n",
       "    </tr>\n",
       "  </thead>\n",
       "  <tbody>\n",
       "    <tr>\n",
       "      <th>0</th>\n",
       "      <td>13481</td>\n",
       "      <td>13481</td>\n",
       "      <td>NaN</td>\n",
       "      <td>akiec_0_6806</td>\n",
       "      <td>akiec</td>\n",
       "      <td>histo</td>\n",
       "      <td>NaN</td>\n",
       "      <td>male</td>\n",
       "      <td>scalp</td>\n",
       "      <td>vidir_modern</td>\n",
       "      <td>/cxldata/skin_disease_1/HAM10000_images_draftv...</td>\n",
       "    </tr>\n",
       "    <tr>\n",
       "      <th>1</th>\n",
       "      <td>14323</td>\n",
       "      <td>14323</td>\n",
       "      <td>NaN</td>\n",
       "      <td>akiec_0_7555</td>\n",
       "      <td>akiec</td>\n",
       "      <td>histo</td>\n",
       "      <td>NaN</td>\n",
       "      <td>female</td>\n",
       "      <td>back</td>\n",
       "      <td>rosendahl</td>\n",
       "      <td>/cxldata/skin_disease_1/HAM10000_images_draftv...</td>\n",
       "    </tr>\n",
       "    <tr>\n",
       "      <th>2</th>\n",
       "      <td>41377</td>\n",
       "      <td>41377</td>\n",
       "      <td>NaN</td>\n",
       "      <td>vasc_0_1955</td>\n",
       "      <td>vasc</td>\n",
       "      <td>histo</td>\n",
       "      <td>NaN</td>\n",
       "      <td>male</td>\n",
       "      <td>lower extremity</td>\n",
       "      <td>vidir_modern</td>\n",
       "      <td>/cxldata/skin_disease_1/HAM10000_images_draftv...</td>\n",
       "    </tr>\n",
       "    <tr>\n",
       "      <th>3</th>\n",
       "      <td>38669</td>\n",
       "      <td>38669</td>\n",
       "      <td>NaN</td>\n",
       "      <td>vasc_0_6309</td>\n",
       "      <td>vasc</td>\n",
       "      <td>histo</td>\n",
       "      <td>NaN</td>\n",
       "      <td>male</td>\n",
       "      <td>back</td>\n",
       "      <td>vidir_modern</td>\n",
       "      <td>/cxldata/skin_disease_1/HAM10000_images_draftv...</td>\n",
       "    </tr>\n",
       "    <tr>\n",
       "      <th>4</th>\n",
       "      <td>37655</td>\n",
       "      <td>37655</td>\n",
       "      <td>NaN</td>\n",
       "      <td>vasc_0_3636</td>\n",
       "      <td>vasc</td>\n",
       "      <td>histo</td>\n",
       "      <td>NaN</td>\n",
       "      <td>male</td>\n",
       "      <td>back</td>\n",
       "      <td>vidir_modern</td>\n",
       "      <td>/cxldata/skin_disease_1/HAM10000_images_draftv...</td>\n",
       "    </tr>\n",
       "    <tr>\n",
       "      <th>...</th>\n",
       "      <td>...</td>\n",
       "      <td>...</td>\n",
       "      <td>...</td>\n",
       "      <td>...</td>\n",
       "      <td>...</td>\n",
       "      <td>...</td>\n",
       "      <td>...</td>\n",
       "      <td>...</td>\n",
       "      <td>...</td>\n",
       "      <td>...</td>\n",
       "      <td>...</td>\n",
       "    </tr>\n",
       "    <tr>\n",
       "      <th>11995</th>\n",
       "      <td>1572</td>\n",
       "      <td>1572</td>\n",
       "      <td>HAM_0005010</td>\n",
       "      <td>ISIC_0033603</td>\n",
       "      <td>mel</td>\n",
       "      <td>histo</td>\n",
       "      <td>30.0</td>\n",
       "      <td>female</td>\n",
       "      <td>upper extremity</td>\n",
       "      <td>vidir_modern</td>\n",
       "      <td>/cxldata/skin_disease_1/HAM10000_images_draftv...</td>\n",
       "    </tr>\n",
       "    <tr>\n",
       "      <th>11996</th>\n",
       "      <td>41111</td>\n",
       "      <td>41111</td>\n",
       "      <td>NaN</td>\n",
       "      <td>vasc_0_7716</td>\n",
       "      <td>vasc</td>\n",
       "      <td>histo</td>\n",
       "      <td>NaN</td>\n",
       "      <td>male</td>\n",
       "      <td>trunk</td>\n",
       "      <td>vidir_modern</td>\n",
       "      <td>/cxldata/skin_disease_1/HAM10000_images_draftv...</td>\n",
       "    </tr>\n",
       "    <tr>\n",
       "      <th>11997</th>\n",
       "      <td>7964</td>\n",
       "      <td>7964</td>\n",
       "      <td>HAM_0004367</td>\n",
       "      <td>ISIC_0033396</td>\n",
       "      <td>nv</td>\n",
       "      <td>histo</td>\n",
       "      <td>80.0</td>\n",
       "      <td>male</td>\n",
       "      <td>back</td>\n",
       "      <td>vidir_modern</td>\n",
       "      <td>/cxldata/skin_disease_1/HAM10000_images_draftv...</td>\n",
       "    </tr>\n",
       "    <tr>\n",
       "      <th>11998</th>\n",
       "      <td>34470</td>\n",
       "      <td>34470</td>\n",
       "      <td>NaN</td>\n",
       "      <td>mel_0_7760</td>\n",
       "      <td>mel</td>\n",
       "      <td>histo</td>\n",
       "      <td>NaN</td>\n",
       "      <td>female</td>\n",
       "      <td>foot</td>\n",
       "      <td>rosendahl</td>\n",
       "      <td>/cxldata/skin_disease_1/HAM10000_images_draftv...</td>\n",
       "    </tr>\n",
       "    <tr>\n",
       "      <th>11999</th>\n",
       "      <td>5397</td>\n",
       "      <td>5397</td>\n",
       "      <td>HAM_0005452</td>\n",
       "      <td>ISIC_0024722</td>\n",
       "      <td>nv</td>\n",
       "      <td>follow_up</td>\n",
       "      <td>65.0</td>\n",
       "      <td>female</td>\n",
       "      <td>upper extremity</td>\n",
       "      <td>vidir_molemax</td>\n",
       "      <td>/cxldata/skin_disease_1/HAM10000_images_draftv...</td>\n",
       "    </tr>\n",
       "  </tbody>\n",
       "</table>\n",
       "<p>12000 rows × 11 columns</p>\n",
       "</div>"
      ],
      "text/plain": [
       "       Unnamed: 0  Unnamed: 0.1    lesion_id      image_id     dx    dx_type  \\\n",
       "0           13481         13481          NaN  akiec_0_6806  akiec      histo   \n",
       "1           14323         14323          NaN  akiec_0_7555  akiec      histo   \n",
       "2           41377         41377          NaN   vasc_0_1955   vasc      histo   \n",
       "3           38669         38669          NaN   vasc_0_6309   vasc      histo   \n",
       "4           37655         37655          NaN   vasc_0_3636   vasc      histo   \n",
       "...           ...           ...          ...           ...    ...        ...   \n",
       "11995        1572          1572  HAM_0005010  ISIC_0033603    mel      histo   \n",
       "11996       41111         41111          NaN   vasc_0_7716   vasc      histo   \n",
       "11997        7964          7964  HAM_0004367  ISIC_0033396     nv      histo   \n",
       "11998       34470         34470          NaN    mel_0_7760    mel      histo   \n",
       "11999        5397          5397  HAM_0005452  ISIC_0024722     nv  follow_up   \n",
       "\n",
       "        age     sex     localization        dataset  \\\n",
       "0       NaN    male            scalp   vidir_modern   \n",
       "1       NaN  female             back      rosendahl   \n",
       "2       NaN    male  lower extremity   vidir_modern   \n",
       "3       NaN    male             back   vidir_modern   \n",
       "4       NaN    male             back   vidir_modern   \n",
       "...     ...     ...              ...            ...   \n",
       "11995  30.0  female  upper extremity   vidir_modern   \n",
       "11996   NaN    male            trunk   vidir_modern   \n",
       "11997  80.0    male             back   vidir_modern   \n",
       "11998   NaN  female             foot      rosendahl   \n",
       "11999  65.0  female  upper extremity  vidir_molemax   \n",
       "\n",
       "                                                    path  \n",
       "0      /cxldata/skin_disease_1/HAM10000_images_draftv...  \n",
       "1      /cxldata/skin_disease_1/HAM10000_images_draftv...  \n",
       "2      /cxldata/skin_disease_1/HAM10000_images_draftv...  \n",
       "3      /cxldata/skin_disease_1/HAM10000_images_draftv...  \n",
       "4      /cxldata/skin_disease_1/HAM10000_images_draftv...  \n",
       "...                                                  ...  \n",
       "11995  /cxldata/skin_disease_1/HAM10000_images_draftv...  \n",
       "11996  /cxldata/skin_disease_1/HAM10000_images_draftv...  \n",
       "11997  /cxldata/skin_disease_1/HAM10000_images_draftv...  \n",
       "11998  /cxldata/skin_disease_1/HAM10000_images_draftv...  \n",
       "11999  /cxldata/skin_disease_1/HAM10000_images_draftv...  \n",
       "\n",
       "[12000 rows x 11 columns]"
      ]
     },
     "execution_count": 16,
     "metadata": {},
     "output_type": "execute_result"
    }
   ],
   "source": [
    "train_df1"
   ]
  },
  {
   "cell_type": "code",
   "execution_count": 17,
   "metadata": {},
   "outputs": [
    {
     "name": "stderr",
     "output_type": "stream",
     "text": [
      "100%|██████████| 12000/12000 [00:59<00:00, 201.66it/s]\n"
     ]
    }
   ],
   "source": [
    "train_image = []\n",
    "for i in tqdm(range(train_df1.shape[0])):\n",
    "    img = image.load_img(train_df1['path'][i],target_size=[64,64,3])\n",
    "    img = image.img_to_array(img)\n",
    "    img = img/255\n",
    "    train_image.append(img)\n",
    "\n",
    "X = np.array(train_image)\n"
   ]
  },
  {
   "cell_type": "code",
   "execution_count": null,
   "metadata": {},
   "outputs": [],
   "source": []
  },
  {
   "cell_type": "code",
   "execution_count": 18,
   "metadata": {},
   "outputs": [],
   "source": [
    "from sklearn.preprocessing import OneHotEncoder\n",
    "y = train_df1['dx'].values\n",
    "onehotencoder = OneHotEncoder(categories='auto',sparse=False)\n",
    "y = onehotencoder.fit_transform(y.reshape(-1,1))"
   ]
  },
  {
   "cell_type": "code",
   "execution_count": 19,
   "metadata": {},
   "outputs": [
    {
     "data": {
      "text/plain": [
       "array([[1., 0., 0., ..., 0., 0., 0.],\n",
       "       [1., 0., 0., ..., 0., 0., 0.],\n",
       "       [0., 0., 0., ..., 0., 0., 1.],\n",
       "       ...,\n",
       "       [0., 0., 0., ..., 0., 1., 0.],\n",
       "       [0., 0., 0., ..., 1., 0., 0.],\n",
       "       [0., 0., 0., ..., 0., 1., 0.]])"
      ]
     },
     "execution_count": 19,
     "metadata": {},
     "output_type": "execute_result"
    }
   ],
   "source": [
    "y"
   ]
  },
  {
   "cell_type": "code",
   "execution_count": 20,
   "metadata": {},
   "outputs": [
    {
     "data": {
      "text/plain": [
       "(12000, 64, 64, 3)"
      ]
     },
     "execution_count": 20,
     "metadata": {},
     "output_type": "execute_result"
    }
   ],
   "source": [
    "X.shape"
   ]
  },
  {
   "cell_type": "code",
   "execution_count": 21,
   "metadata": {},
   "outputs": [
    {
     "data": {
      "text/plain": [
       "(12000, 7)"
      ]
     },
     "execution_count": 21,
     "metadata": {},
     "output_type": "execute_result"
    }
   ],
   "source": [
    "y.shape"
   ]
  },
  {
   "cell_type": "code",
   "execution_count": 22,
   "metadata": {},
   "outputs": [],
   "source": [
    "X_train,X_valid,y_train,y_valid = train_test_split(X,y,stratify=y,test_size=0.2)"
   ]
  },
  {
   "cell_type": "code",
   "execution_count": 26,
   "metadata": {},
   "outputs": [
    {
     "name": "stdout",
     "output_type": "stream",
     "text": [
      "(9600, 64, 64, 3)\n",
      "(2400, 64, 64, 3)\n"
     ]
    }
   ],
   "source": [
    "print(X_train.shape)\n",
    "print(X_valid.shape)"
   ]
  },
  {
   "cell_type": "code",
   "execution_count": 27,
   "metadata": {},
   "outputs": [
    {
     "name": "stdout",
     "output_type": "stream",
     "text": [
      "(9600, 7)\n",
      "(2400, 7)\n"
     ]
    }
   ],
   "source": [
    "print(y_train.shape)\n",
    "print(y_valid.shape)"
   ]
  },
  {
   "cell_type": "code",
   "execution_count": 9,
   "metadata": {},
   "outputs": [],
   "source": [
    "from keras.models import Sequential\n",
    "from keras.layers import Dense,Flatten\n",
    "import tensorflow as tf\n",
    "from tensorflow import keras\n",
    "base_model = keras.applications.vgg16.VGG16(weights=\"imagenet\",\n",
    "                                                  include_top=False,input_shape = (64,64,3))\n",
    "model_t1 = Sequential()\n",
    "model_t1.add(base_model)\n",
    "model_t1.add(Flatten())\n",
    "model_t1.add(Dense(64,activation=\"relu\"))\n",
    "model_t1.add(Dense(7,activation=\"softmax\"))\n",
    "#avg = keras.layers.GlobalAveragePooling2D()(base_model.output)\n",
    "#output = keras.layers.Dense(7, activation=\"softmax\")(avg)\n",
    "#model = keras.models.Model(inputs=base_model.input, outputs=output)"
   ]
  },
  {
   "cell_type": "code",
   "execution_count": 10,
   "metadata": {},
   "outputs": [],
   "source": [
    "for layer in base_model.layers:\n",
    "    layer.trainable = False"
   ]
  },
  {
   "cell_type": "code",
   "execution_count": 13,
   "metadata": {},
   "outputs": [],
   "source": [
    "from keras import backend as K \n",
    "K.clear_session()"
   ]
  },
  {
   "cell_type": "code",
   "execution_count": 11,
   "metadata": {},
   "outputs": [
    {
     "name": "stdout",
     "output_type": "stream",
     "text": [
      "Epoch 1/3\n",
      "300/300 [==============================] - 201s 668ms/step - loss: 0.8168 - accuracy: 0.7405 - val_loss: 0.5015 - val_accuracy: 0.8571\n",
      "Epoch 2/3\n",
      "300/300 [==============================] - 203s 679ms/step - loss: 0.4337 - accuracy: 0.8783 - val_loss: 0.3899 - val_accuracy: 0.8871\n",
      "Epoch 3/3\n",
      "300/300 [==============================] - 214s 714ms/step - loss: 0.3437 - accuracy: 0.9035 - val_loss: 0.3476 - val_accuracy: 0.9125\n"
     ]
    }
   ],
   "source": [
    "#optimizer = keras.optimizers.SGD(lr=0.2)\n",
    "model_t1.compile(loss=\"categorical_crossentropy\", optimizer=\"nadam\",\n",
    "              metrics=[\"accuracy\"])\n",
    "history = model_t1.fit(X_train,y_train,epochs=3,validation_data=(X_valid,y_valid)) #changed from 5"
   ]
  },
  {
   "cell_type": "code",
   "execution_count": 17,
   "metadata": {},
   "outputs": [],
   "source": [
    "img_path = '/cxldata/skin_disease_1/HAM10000_images_draftv1/akiec/akiec_0_100.jpg'\n"
   ]
  },
  {
   "cell_type": "code",
   "execution_count": 23,
   "metadata": {},
   "outputs": [
    {
     "data": {
      "image/png": "[encoded data removed]",
      "text/plain": [
       "<PIL.Image.Image image mode=RGB size=64x64 at 0x7FDC8BDE3A90>"
      ]
     },
     "metadata": {},
     "output_type": "display_data"
    }
   ],
   "source": [
    "img = image.load_img(img_path,color_mode='rgb', target_size=(64, 64))\n",
    "display(img)"
   ]
  },
  {
   "cell_type": "code",
   "execution_count": 24,
   "metadata": {},
   "outputs": [],
   "source": [
    "x = image.img_to_array(img)\n",
    "x.shape\n",
    "# Adding the fouth dimension, for number of images\n",
    "x = np.expand_dims(x, axis=0)"
   ]
  },
  {
   "cell_type": "code",
   "execution_count": 20,
   "metadata": {},
   "outputs": [],
   "source": [
    "from tensorflow.keras.preprocessing import image\n",
    "from tensorflow.keras.applications.vgg16 import preprocess_input,decode_predictions\n",
    "import numpy as np"
   ]
  },
  {
   "cell_type": "code",
   "execution_count": 26,
   "metadata": {},
   "outputs": [
    {
     "data": {
      "text/plain": [
       "array([[0.9952668 , 0.        , 0.        , 0.        , 0.00473323,\n",
       "        0.        , 0.        ]], dtype=float32)"
      ]
     },
     "execution_count": 26,
     "metadata": {},
     "output_type": "execute_result"
    }
   ],
   "source": [
    "x = preprocess_input(x)\n",
    "features = model_t1.predict(x)\n",
    "features\n",
    "#p = decode_predictions(features)"
   ]
  },
  {
   "cell_type": "code",
   "execution_count": 12,
   "metadata": {},
   "outputs": [],
   "source": [
    "model_t1.save('/cxldata/skin_disease_1/sudeep/1/4_nadam.h5')"
   ]
  },
  {
   "cell_type": "code",
   "execution_count": 33,
   "metadata": {},
   "outputs": [],
   "source": [
    "classes = ['akiec', 'bcc', 'bkl', 'df', 'mel', 'nv', 'vasc']\n"
   ]
  },
  {
   "cell_type": "code",
   "execution_count": 34,
   "metadata": {},
   "outputs": [
    {
     "name": "stdout",
     "output_type": "stream",
     "text": [
      "akiec\n"
     ]
    }
   ],
   "source": [
    "#return position of max\n",
    "MaxPosition=np.argmax(features)  \n",
    "prediction_label=classes[MaxPosition]\n",
    "print(prediction_label) "
   ]
  },
  {
   "cell_type": "code",
   "execution_count": 65,
   "metadata": {},
   "outputs": [
    {
     "data": {
      "image/png": "[encoded data removed]",
      "text/plain": [
       "<PIL.Image.Image image mode=RGB size=64x64 at 0x7FDC9135C6D8>"
      ]
     },
     "metadata": {},
     "output_type": "display_data"
    },
    {
     "name": "stdout",
     "output_type": "stream",
     "text": [
      "akiec\n"
     ]
    }
   ],
   "source": [
    "classes = ['akiec', 'bcc', 'bkl', 'df', 'mel', 'nv', 'vasc']\n",
    "img_path1 = '/cxldata/skin_disease_1/HAM10000_images_draftv1/akiec2/akiec_0_9864.jpg'\n",
    "img1 = image.load_img(img_path1,color_mode='rgb', target_size=(64, 64))\n",
    "display(img1)\n",
    "x1 = image.img_to_array(img1)\n",
    "x1.shape\n",
    "# Adding the fouth dimension, for number of images\n",
    "x1 = np.expand_dims(x1, axis=0)\n",
    "\n",
    "x1 = preprocess_input(x1)\n",
    "features1 = model_t1.predict(x1)\n",
    "features1\n",
    "#p = decode_predictions(features)\n",
    "MaxPosition=np.argmax(features1)  \n",
    "prediction_label=classes[MaxPosition]\n",
    "print(prediction_label) "
   ]
  },
  {
   "cell_type": "code",
   "execution_count": 49,
   "metadata": {},
   "outputs": [
    {
     "data": {
      "text/plain": [
       "array([[1.0000000e+00, 3.0424418e-28, 0.0000000e+00, 0.0000000e+00,\n",
       "        2.4646536e-20, 0.0000000e+00, 0.0000000e+00]], dtype=float32)"
      ]
     },
     "execution_count": 49,
     "metadata": {},
     "output_type": "execute_result"
    }
   ],
   "source": [
    "features1"
   ]
  },
  {
   "cell_type": "code",
   "execution_count": 40,
   "metadata": {},
   "outputs": [
    {
     "data": {
      "text/plain": [
       "0"
      ]
     },
     "execution_count": 40,
     "metadata": {},
     "output_type": "execute_result"
    }
   ],
   "source": [
    "MaxPosition"
   ]
  },
  {
   "cell_type": "code",
   "execution_count": 28,
   "metadata": {},
   "outputs": [],
   "source": [
    "model = keras.models.load_model('/cxldata/skin_disease_1/sudeep/1/4_nadam.h5')"
   ]
  },
  {
   "cell_type": "code",
   "execution_count": 29,
   "metadata": {},
   "outputs": [
    {
     "name": "stderr",
     "output_type": "stream",
     "text": [
      "100%|██████████| 8530/8530 [00:44<00:00, 192.01it/s]\n"
     ]
    }
   ],
   "source": [
    "# for test dataset\n",
    "train_image = []\n",
    "for i in tqdm(range(test_df.shape[0])):\n",
    "    img = image.load_img(test_df['path'][i],target_size=[64,64,3])\n",
    "    img = image.img_to_array(img)\n",
    "    img = img/255\n",
    "    train_image.append(img)\n",
    "\n",
    "X_test = np.array(train_image)"
   ]
  },
  {
   "cell_type": "code",
   "execution_count": 36,
   "metadata": {},
   "outputs": [],
   "source": [
    "from sklearn.preprocessing import OneHotEncoder\n",
    "y_test = test_df['dx'].values\n",
    "onehotencoder = OneHotEncoder(categories='auto',sparse=False)\n",
    "y_test = onehotencoder.fit_transform(y_test.reshape(-1,1))"
   ]
  },
  {
   "cell_type": "code",
   "execution_count": 37,
   "metadata": {},
   "outputs": [
    {
     "name": "stdout",
     "output_type": "stream",
     "text": [
      "(8530, 64, 64, 3)\n",
      "(8530, 7)\n"
     ]
    }
   ],
   "source": [
    "print(X_test.shape)\n",
    "print(y_test.shape)"
   ]
  },
  {
   "cell_type": "code",
   "execution_count": 38,
   "metadata": {},
   "outputs": [
    {
     "data": {
      "text/plain": [
       "nv       1341\n",
       "mel      1302\n",
       "df       1256\n",
       "bkl      1253\n",
       "vasc     1226\n",
       "akiec    1121\n",
       "bcc      1031\n",
       "Name: dx, dtype: int64"
      ]
     },
     "execution_count": 38,
     "metadata": {},
     "output_type": "execute_result"
    }
   ],
   "source": [
    "test_df['dx'].value_counts()"
   ]
  },
  {
   "cell_type": "code",
   "execution_count": 39,
   "metadata": {},
   "outputs": [
    {
     "name": "stdout",
     "output_type": "stream",
     "text": [
      "Evaluate on test data\n",
      "67/67 [==============================] - 157s 2s/step - loss: 0.3456 - accuracy: 0.9089\n",
      "test loss, test acc: [0.3455950915813446, 0.9089097380638123]\n"
     ]
    }
   ],
   "source": [
    "print(\"Evaluate on test data\")\n",
    "results = model.evaluate(X_test, y_test, batch_size=128)\n",
    "print(\"test loss, test acc:\", results)"
   ]
  },
  {
   "cell_type": "code",
   "execution_count": null,
   "metadata": {},
   "outputs": [],
   "source": []
  }
 ],
 "metadata": {
  "kernelspec": {
   "display_name": "tensorflow2",
   "language": "python",
   "name": "tensorflow2"
  },
  "language_info": {
   "codemirror_mode": {
    "name": "ipython",
    "version": 3
   },
   "file_extension": ".py",
   "mimetype": "text/x-python",
   "name": "python",
   "nbconvert_exporter": "python",
   "pygments_lexer": "ipython3",
   "version": "3.6.8"
  },
  "toc": {
   "base_numbering": 1,
   "nav_menu": {},
   "number_sections": true,
   "sideBar": true,
   "skip_h1_title": false,
   "title_cell": "Table of Contents",
   "title_sidebar": "Contents",
   "toc_cell": false,
   "toc_position": {},
   "toc_section_display": true,
   "toc_window_display": false
  }
 },
 "nbformat": 4,
 "nbformat_minor": 2
}
